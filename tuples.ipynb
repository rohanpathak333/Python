{
 "cells": [
  {
   "cell_type": "code",
   "execution_count": null,
   "id": "0af5634e",
   "metadata": {},
   "outputs": [
    {
     "data": {
      "text/plain": [
       "list"
      ]
     },
     "execution_count": 5,
     "metadata": {},
     "output_type": "execute_result"
    }
   ],
   "source": [
    "# list are dynamic and not fixed ,mutable\n",
    "point = [5,6]\n",
    "point[0],point[1]\n"
   ]
  },
  {
   "cell_type": "code",
   "execution_count": null,
   "id": "5be39467",
   "metadata": {},
   "outputs": [
    {
     "data": {
      "text/plain": [
       "list"
      ]
     },
     "execution_count": 4,
     "metadata": {},
     "output_type": "execute_result"
    }
   ],
   "source": [
    "\n",
    "type(point)"
   ]
  },
  {
   "cell_type": "code",
   "execution_count": 6,
   "id": "f629b50b",
   "metadata": {},
   "outputs": [
    {
     "data": {
      "text/plain": [
       "5"
      ]
     },
     "execution_count": 6,
     "metadata": {},
     "output_type": "execute_result"
    }
   ],
   "source": [
    "#tuples are immutable ,memory optimized\n",
    "tuple = (5,6)\n",
    "tuple[0]"
   ]
  },
  {
   "cell_type": "code",
   "execution_count": 7,
   "id": "d4a0041a",
   "metadata": {},
   "outputs": [
    {
     "data": {
      "text/plain": [
       "tuple"
      ]
     },
     "execution_count": 7,
     "metadata": {},
     "output_type": "execute_result"
    }
   ],
   "source": [
    "type(tuple)"
   ]
  },
  {
   "cell_type": "code",
   "execution_count": null,
   "id": "4bb9ec14",
   "metadata": {},
   "outputs": [
    {
     "ename": "TypeError",
     "evalue": "'tuple' object does not support item assignment",
     "output_type": "error",
     "traceback": [
      "\u001b[31m---------------------------------------------------------------------------\u001b[39m",
      "\u001b[31mTypeError\u001b[39m                                 Traceback (most recent call last)",
      "\u001b[36mCell\u001b[39m\u001b[36m \u001b[39m\u001b[32mIn[8]\u001b[39m\u001b[32m, line 1\u001b[39m\n\u001b[32m----> \u001b[39m\u001b[32m1\u001b[39m \u001b[38;5;28;43mtuple\u001b[39;49m\u001b[43m[\u001b[49m\u001b[32;43m1\u001b[39;49m\u001b[43m]\u001b[49m=\u001b[32m8\u001b[39m\n",
      "\u001b[31mTypeError\u001b[39m: 'tuple' object does not support item assignment"
     ]
    }
   ],
   "source": [
    "#tuple are immutable and can not be assigned another value,fix in size\n",
    "tuple[1]=8"
   ]
  },
  {
   "cell_type": "code",
   "execution_count": 2,
   "id": "a017d19f",
   "metadata": {},
   "outputs": [],
   "source": [
    "point_3d = (5,8,10)"
   ]
  },
  {
   "cell_type": "code",
   "execution_count": 14,
   "id": "55fb9697",
   "metadata": {},
   "outputs": [],
   "source": [
    "def find_pe_and_pb(price, eps,book_value):\n",
    "    pe = price/eps\n",
    "    pb = price/book_value\n",
    "    return [pe, pb]"
   ]
  },
  {
   "cell_type": "code",
   "execution_count": 15,
   "id": "bd0ec9f3",
   "metadata": {},
   "outputs": [],
   "source": [
    "val= find_pe_and_pb(100, 2, 4)"
   ]
  },
  {
   "cell_type": "code",
   "execution_count": 16,
   "id": "8cba26cc",
   "metadata": {},
   "outputs": [
    {
     "data": {
      "text/plain": [
       "50.0"
      ]
     },
     "execution_count": 16,
     "metadata": {},
     "output_type": "execute_result"
    }
   ],
   "source": [
    "val[0]"
   ]
  },
  {
   "cell_type": "code",
   "execution_count": 17,
   "id": "d0faa84d",
   "metadata": {},
   "outputs": [
    {
     "data": {
      "text/plain": [
       "25.0"
      ]
     },
     "execution_count": 17,
     "metadata": {},
     "output_type": "execute_result"
    }
   ],
   "source": [
    "val[1]"
   ]
  },
  {
   "cell_type": "code",
   "execution_count": null,
   "id": "e2242d1e",
   "metadata": {},
   "outputs": [],
   "source": [
    "#another way\n",
    "def find_pe_and_pb(price, eps,book_value):\n",
    "    pe = price/eps\n",
    "    pb = price/book_value\n",
    "    return pe, pb"
   ]
  },
  {
   "cell_type": "code",
   "execution_count": 19,
   "id": "ef0d30ec",
   "metadata": {},
   "outputs": [],
   "source": [
    "pe_ratio, pb_ratio = find_pe_and_pb(100, 2, 4)"
   ]
  },
  {
   "cell_type": "code",
   "execution_count": 20,
   "id": "9dd376c5",
   "metadata": {},
   "outputs": [
    {
     "data": {
      "text/plain": [
       "50.0"
      ]
     },
     "execution_count": 20,
     "metadata": {},
     "output_type": "execute_result"
    }
   ],
   "source": [
    "pe_ratio"
   ]
  },
  {
   "cell_type": "code",
   "execution_count": 22,
   "id": "eca16bc9",
   "metadata": {},
   "outputs": [
    {
     "data": {
      "text/plain": [
       "25.0"
      ]
     },
     "execution_count": 22,
     "metadata": {},
     "output_type": "execute_result"
    }
   ],
   "source": [
    "pb_ratio"
   ]
  },
  {
   "cell_type": "code",
   "execution_count": null,
   "id": "15b81ed9",
   "metadata": {},
   "outputs": [],
   "source": []
  },
  {
   "cell_type": "code",
   "execution_count": 23,
   "id": "6d268708",
   "metadata": {},
   "outputs": [],
   "source": [
    "#list of tuples\n",
    "contacts = [('rachel',8887771111),('monica',9195675555), ('joey',3332229999)]"
   ]
  },
  {
   "cell_type": "code",
   "execution_count": 32,
   "id": "c960361e",
   "metadata": {},
   "outputs": [
    {
     "name": "stdout",
     "output_type": "stream",
     "text": [
      "9195675555\n"
     ]
    }
   ],
   "source": [
    "for contact in contacts:\n",
    "    if contact[0] == \"monica\":\n",
    "        print(contact[1])"
   ]
  },
  {
   "cell_type": "code",
   "execution_count": 37,
   "id": "b515d2f2",
   "metadata": {},
   "outputs": [
    {
     "name": "stdout",
     "output_type": "stream",
     "text": [
      "joey 3332229999\n"
     ]
    }
   ],
   "source": [
    "for i in contacts:\n",
    "    if i[0] == \"joey\":\n",
    "        print(i[0],i[1])"
   ]
  },
  {
   "cell_type": "code",
   "execution_count": 38,
   "id": "14b2c4d7",
   "metadata": {},
   "outputs": [
    {
     "data": {
      "text/plain": [
       "{'rachel': 8887771111, 'monica': 9191562555, 'joey': 3332229999}"
      ]
     },
     "execution_count": 38,
     "metadata": {},
     "output_type": "execute_result"
    }
   ],
   "source": [
    "d ={\n",
    "    'rachel' : 8887771111,\n",
    "    'monica' : 9191562555,\n",
    "    'joey'   : 3332229999\n",
    "}\n",
    "d"
   ]
  },
  {
   "cell_type": "code",
   "execution_count": 39,
   "id": "1486e798",
   "metadata": {},
   "outputs": [
    {
     "data": {
      "text/plain": [
       "dict"
      ]
     },
     "execution_count": 39,
     "metadata": {},
     "output_type": "execute_result"
    }
   ],
   "source": [
    "type(d)"
   ]
  },
  {
   "cell_type": "code",
   "execution_count": 40,
   "id": "7270d7de",
   "metadata": {},
   "outputs": [
    {
     "data": {
      "text/plain": [
       "3332229999"
      ]
     },
     "execution_count": 40,
     "metadata": {},
     "output_type": "execute_result"
    }
   ],
   "source": [
    "d['joey']"
   ]
  },
  {
   "cell_type": "code",
   "execution_count": 41,
   "id": "52f0437e",
   "metadata": {},
   "outputs": [
    {
     "ename": "KeyError",
     "evalue": "'satya'",
     "output_type": "error",
     "traceback": [
      "\u001b[31m---------------------------------------------------------------------------\u001b[39m",
      "\u001b[31mKeyError\u001b[39m                                  Traceback (most recent call last)",
      "\u001b[36mCell\u001b[39m\u001b[36m \u001b[39m\u001b[32mIn[41]\u001b[39m\u001b[32m, line 1\u001b[39m\n\u001b[32m----> \u001b[39m\u001b[32m1\u001b[39m \u001b[43md\u001b[49m\u001b[43m[\u001b[49m\u001b[33;43m'\u001b[39;49m\u001b[33;43msatya\u001b[39;49m\u001b[33;43m'\u001b[39;49m\u001b[43m]\u001b[49m\n",
      "\u001b[31mKeyError\u001b[39m: 'satya'"
     ]
    }
   ],
   "source": [
    "d['satya']"
   ]
  },
  {
   "cell_type": "code",
   "execution_count": null,
   "id": "478bfb4d",
   "metadata": {},
   "outputs": [
    {
     "data": {
      "text/plain": [
       "8"
      ]
     },
     "execution_count": 44,
     "metadata": {},
     "output_type": "execute_result"
    }
   ],
   "source": [
    "d.get('satya', -1)"
   ]
  },
  {
   "cell_type": "code",
   "execution_count": 45,
   "id": "1ca7d85a",
   "metadata": {},
   "outputs": [
    {
     "data": {
      "text/plain": [
       "8887771111"
      ]
     },
     "execution_count": 45,
     "metadata": {},
     "output_type": "execute_result"
    }
   ],
   "source": [
    "d.get('rachel',-1)"
   ]
  },
  {
   "cell_type": "code",
   "execution_count": 47,
   "id": "18f0f10d",
   "metadata": {},
   "outputs": [
    {
     "data": {
      "text/plain": [
       "{'rachel': 1010101, 'monica': 9191562555, 'joey': 3332229999}"
      ]
     },
     "execution_count": 47,
     "metadata": {},
     "output_type": "execute_result"
    }
   ],
   "source": [
    "d['rachel'] = 1010101\n",
    "d"
   ]
  },
  {
   "cell_type": "code",
   "execution_count": 48,
   "id": "1180dfeb",
   "metadata": {},
   "outputs": [
    {
     "data": {
      "text/plain": [
       "{'rachel': 1010101, 'monica': 9191562555, 'joey': 3332229999, 'satya': 124421}"
      ]
     },
     "execution_count": 48,
     "metadata": {},
     "output_type": "execute_result"
    }
   ],
   "source": [
    "d['satya']= 124421\n",
    "d"
   ]
  },
  {
   "cell_type": "code",
   "execution_count": 49,
   "id": "92f1e046",
   "metadata": {},
   "outputs": [
    {
     "data": {
      "text/plain": [
       "{'rachel': 1010101, 'monica': 9191562555, 'joey': 3332229999, 'satya': 124421}"
      ]
     },
     "execution_count": 49,
     "metadata": {},
     "output_type": "execute_result"
    }
   ],
   "source": [
    "d"
   ]
  },
  {
   "cell_type": "code",
   "execution_count": 50,
   "id": "eff11c04",
   "metadata": {},
   "outputs": [
    {
     "data": {
      "text/plain": [
       "{'rachel': 1010101, 'monica': 9191562555, 'joey': 3332229999}"
      ]
     },
     "execution_count": 50,
     "metadata": {},
     "output_type": "execute_result"
    }
   ],
   "source": [
    "del d['satya']\n",
    "d"
   ]
  },
  {
   "cell_type": "code",
   "execution_count": 51,
   "id": "e4e834ca",
   "metadata": {},
   "outputs": [
    {
     "data": {
      "text/plain": [
       "False"
      ]
     },
     "execution_count": 51,
     "metadata": {},
     "output_type": "execute_result"
    }
   ],
   "source": [
    "'abdul' in d"
   ]
  },
  {
   "cell_type": "code",
   "execution_count": 52,
   "id": "e11125fe",
   "metadata": {},
   "outputs": [
    {
     "data": {
      "text/plain": [
       "True"
      ]
     },
     "execution_count": 52,
     "metadata": {},
     "output_type": "execute_result"
    }
   ],
   "source": [
    "'joey' in d"
   ]
  },
  {
   "cell_type": "code",
   "execution_count": null,
   "id": "124df2d6",
   "metadata": {},
   "outputs": [],
   "source": [
    "#nested dictionary\n",
    "contact_dict = {\n",
    "    'rachel' : { 'phone' : 1234, 'address': '1 blue st'},\n",
    "    'joey': {'phone': 999, 'address':'7 newton blvd'}\n",
    "}"
   ]
  },
  {
   "cell_type": "code",
   "execution_count": 56,
   "id": "15e4a37a",
   "metadata": {},
   "outputs": [
    {
     "data": {
      "text/plain": [
       "{'rachel': 1010101, 'monica': 9191562555, 'joey': 3332229999}"
      ]
     },
     "execution_count": 56,
     "metadata": {},
     "output_type": "execute_result"
    }
   ],
   "source": [
    "d\n"
   ]
  },
  {
   "cell_type": "code",
   "execution_count": 55,
   "id": "38e556c1",
   "metadata": {},
   "outputs": [
    {
     "name": "stdout",
     "output_type": "stream",
     "text": [
      "rachel\n",
      "monica\n",
      "joey\n"
     ]
    }
   ],
   "source": [
    "for name in d:\n",
    "    print(name)"
   ]
  },
  {
   "cell_type": "code",
   "execution_count": 57,
   "id": "5d8f7fa6",
   "metadata": {},
   "outputs": [
    {
     "name": "stdout",
     "output_type": "stream",
     "text": [
      "rachel 1010101\n",
      "monica 9191562555\n",
      "joey 3332229999\n"
     ]
    }
   ],
   "source": [
    "for name,number in d.items():\n",
    "    print(name,number)\n",
    "    "
   ]
  },
  {
   "cell_type": "code",
   "execution_count": 58,
   "id": "412abf18",
   "metadata": {},
   "outputs": [
    {
     "data": {
      "text/plain": [
       "dict_keys(['rachel', 'monica', 'joey'])"
      ]
     },
     "execution_count": 58,
     "metadata": {},
     "output_type": "execute_result"
    }
   ],
   "source": [
    "d.keys()"
   ]
  },
  {
   "cell_type": "code",
   "execution_count": 59,
   "id": "bce2907e",
   "metadata": {},
   "outputs": [
    {
     "data": {
      "text/plain": [
       "dict_values([1010101, 9191562555, 3332229999])"
      ]
     },
     "execution_count": 59,
     "metadata": {},
     "output_type": "execute_result"
    }
   ],
   "source": [
    "d.values()"
   ]
  },
  {
   "cell_type": "code",
   "execution_count": 61,
   "id": "3144f819",
   "metadata": {},
   "outputs": [],
   "source": [
    "apple_revenues = {\n",
    "    \"USA\":{\n",
    "        'iphone':20,\n",
    "        'ipad':12,\n",
    "        'macbook':8\n",
    "    },\n",
    "    'China':{\n",
    "        'iphone':17,\n",
    "        'ipad':9,\n",
    "        'macbook':6\n",
    "    },\n",
    "    'India':{\n",
    "        'iphone': 9,\n",
    "        'ipad': 4,\n",
    "        'macbook': 2\n",
    "    }\n",
    "}"
   ]
  },
  {
   "cell_type": "code",
   "execution_count": 68,
   "id": "6f098ae2",
   "metadata": {},
   "outputs": [
    {
     "name": "stdout",
     "output_type": "stream",
     "text": [
      "USA iphone : 20 million $\n",
      "USA ipad : 12 million $\n",
      "USA macbook : 8 million $\n",
      "China iphone : 17 million $\n",
      "China ipad : 9 million $\n",
      "China macbook : 6 million $\n",
      "India iphone : 9 million $\n",
      "India ipad : 4 million $\n",
      "India macbook : 2 million $\n"
     ]
    }
   ],
   "source": [
    "for country, product_data in apple_revenues.items():\n",
    "    for product, rev in product_data.items():\n",
    "        print(f\"{country} {product} : {rev} million $\")"
   ]
  },
  {
   "cell_type": "code",
   "execution_count": 74,
   "id": "d4a94b1f",
   "metadata": {},
   "outputs": [
    {
     "name": "stdout",
     "output_type": "stream",
     "text": [
      "USA iphone : 20 million $\n",
      "USA ipad : 12 million $\n",
      "USA macbook : 8 million $\n",
      "China iphone : 17 million $\n",
      "China ipad : 9 million $\n",
      "China macbook : 6 million $\n",
      "India iphone : 9 million $\n",
      "India ipad : 4 million $\n",
      "India macbook : 2 million $\n"
     ]
    }
   ],
   "source": [
    "for c, pd in apple_revenues.items():\n",
    "    for p, rev in pd.items():\n",
    "        print(f\"{c} {p} : {rev} million $\")"
   ]
  },
  {
   "cell_type": "code",
   "execution_count": null,
   "id": "6965d198",
   "metadata": {},
   "outputs": [],
   "source": []
  }
 ],
 "metadata": {
  "kernelspec": {
   "display_name": "Python 3",
   "language": "python",
   "name": "python3"
  },
  "language_info": {
   "codemirror_mode": {
    "name": "ipython",
    "version": 3
   },
   "file_extension": ".py",
   "mimetype": "text/x-python",
   "name": "python",
   "nbconvert_exporter": "python",
   "pygments_lexer": "ipython3",
   "version": "3.12.1"
  }
 },
 "nbformat": 4,
 "nbformat_minor": 5
}
