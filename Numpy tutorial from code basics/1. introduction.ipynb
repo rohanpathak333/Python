{
 "cells": [
  {
   "cell_type": "markdown",
   "id": "ab0b1e55",
   "metadata": {},
   "source": [
    "                                         Numpy Array vs Python List"
   ]
  },
  {
   "cell_type": "markdown",
   "id": "aa81210b",
   "metadata": {},
   "source": [
    "Benefit #1 : Less Memory"
   ]
  },
  {
   "cell_type": "code",
   "execution_count": 2,
   "id": "3b5f5f77",
   "metadata": {},
   "outputs": [],
   "source": [
    "import numpy as np"
   ]
  },
  {
   "cell_type": "code",
   "execution_count": 3,
   "id": "4e9a1296",
   "metadata": {},
   "outputs": [
    {
     "data": {
      "text/plain": [
       "array([1, 2, 3])"
      ]
     },
     "execution_count": 3,
     "metadata": {},
     "output_type": "execute_result"
    }
   ],
   "source": [
    "arr = np.array([1,2,3])\n",
    "arr"
   ]
  },
  {
   "cell_type": "code",
   "execution_count": 4,
   "id": "a04d1f3d",
   "metadata": {},
   "outputs": [
    {
     "data": {
      "text/plain": [
       "[1, 2, 3]"
      ]
     },
     "execution_count": 4,
     "metadata": {},
     "output_type": "execute_result"
    }
   ],
   "source": [
    "l = [1,2,3]\n",
    "l"
   ]
  },
  {
   "cell_type": "code",
   "execution_count": 6,
   "id": "3c5f730c",
   "metadata": {},
   "outputs": [
    {
     "data": {
      "text/plain": [
       "[0, 1, 2, 3, 4, 5, 6, 7, 8]"
      ]
     },
     "execution_count": 6,
     "metadata": {},
     "output_type": "execute_result"
    }
   ],
   "source": [
    "python_list = list(range(100))\n",
    "python_list[:9]"
   ]
  },
  {
   "cell_type": "code",
   "execution_count": 8,
   "id": "51d02823",
   "metadata": {},
   "outputs": [
    {
     "data": {
      "text/plain": [
       "array([0, 1, 2, 3, 4, 5, 6, 7, 8])"
      ]
     },
     "execution_count": 8,
     "metadata": {},
     "output_type": "execute_result"
    }
   ],
   "source": [
    "numpy_array = np.arange(100)\n",
    "numpy_array[:9]"
   ]
  },
  {
   "cell_type": "code",
   "execution_count": 9,
   "id": "c7bce645",
   "metadata": {},
   "outputs": [
    {
     "data": {
      "text/plain": [
       "2800"
      ]
     },
     "execution_count": 9,
     "metadata": {},
     "output_type": "execute_result"
    }
   ],
   "source": [
    "import sys\n",
    "\n",
    "sys.getsizeof(python_list[0])*len(python_list)"
   ]
  },
  {
   "cell_type": "code",
   "execution_count": 10,
   "id": "225ebf13",
   "metadata": {},
   "outputs": [
    {
     "data": {
      "text/plain": [
       "800"
      ]
     },
     "execution_count": 10,
     "metadata": {},
     "output_type": "execute_result"
    }
   ],
   "source": [
    "numpy_array.nbytes"
   ]
  },
  {
   "cell_type": "code",
   "execution_count": 12,
   "id": "21c170dc",
   "metadata": {},
   "outputs": [
    {
     "data": {
      "text/plain": [
       "((1, 8), (2, 7), (3, 9))"
      ]
     },
     "execution_count": 12,
     "metadata": {},
     "output_type": "execute_result"
    }
   ],
   "source": [
    "l1 = [1,2,3]\n",
    "l2 = [8,7,9]\n",
    "tuple(zip(l1,l2))"
   ]
  },
  {
   "cell_type": "code",
   "execution_count": 15,
   "id": "bba38b8a",
   "metadata": {},
   "outputs": [
    {
     "name": "stdout",
     "output_type": "stream",
     "text": [
      "1 8\n",
      "2 7\n",
      "3 9\n"
     ]
    }
   ],
   "source": [
    "l1 = [1,2,3]\n",
    "l2 = [8,7,9]\n",
    "for x,y in zip(l1,l2):\n",
    "    print (x,y)"
   ]
  },
  {
   "cell_type": "markdown",
   "id": "beab5d49",
   "metadata": {},
   "source": [
    "Benefit #2 : Speed"
   ]
  },
  {
   "cell_type": "code",
   "execution_count": 16,
   "id": "e00345f4",
   "metadata": {},
   "outputs": [
    {
     "name": "stdout",
     "output_type": "stream",
     "text": [
      "Python list took:  0.055054426193237305\n"
     ]
    }
   ],
   "source": [
    "import time\n",
    "\n",
    "SIZE = 1000000\n",
    "\n",
    "l1 = list(range(SIZE))\n",
    "l2 = list(range(SIZE))\n",
    "\n",
    "start_time = time.time()\n",
    "l3 = [x+y for x,y in zip(l1,l2)]\n",
    "end_time = time.time()\n",
    "\n",
    "print(\"Python list took: \", end_time - start_time)"
   ]
  },
  {
   "cell_type": "code",
   "execution_count": 17,
   "id": "370f24f3",
   "metadata": {},
   "outputs": [
    {
     "data": {
      "text/plain": [
       "(array([0, 1, 2, 3]), array([0, 1, 2, 3]))"
      ]
     },
     "execution_count": 17,
     "metadata": {},
     "output_type": "execute_result"
    }
   ],
   "source": [
    "n1 = np.arange(SIZE)\n",
    "n2 = np.arange(SIZE)\n",
    "n1[:4], n2[:4]"
   ]
  },
  {
   "cell_type": "code",
   "execution_count": 18,
   "id": "425a3ee8",
   "metadata": {},
   "outputs": [
    {
     "name": "stdout",
     "output_type": "stream",
     "text": [
      "NUmpy array took:  0.009096622467041016\n"
     ]
    }
   ],
   "source": [
    "start_time = time.time()\n",
    "n3 = n1 + n2\n",
    "end_time = time.time()\n",
    "print(\"NUmpy array took: \", end_time-start_time)"
   ]
  },
  {
   "cell_type": "markdown",
   "id": "7692839c",
   "metadata": {},
   "source": [
    "Benefit #3 : Convenient use with built in functions"
   ]
  },
  {
   "cell_type": "code",
   "execution_count": 19,
   "id": "bec3abed",
   "metadata": {},
   "outputs": [
    {
     "data": {
      "text/plain": [
       "([0, 1, 2], [0, 1, 2])"
      ]
     },
     "execution_count": 19,
     "metadata": {},
     "output_type": "execute_result"
    }
   ],
   "source": [
    "l1 = list(range(5))\n",
    "l2 = list(range(5))\n",
    "l1[:3], l2[:3]"
   ]
  },
  {
   "cell_type": "code",
   "execution_count": 20,
   "id": "9135cb92",
   "metadata": {},
   "outputs": [
    {
     "data": {
      "text/plain": [
       "[0, 2, 4, 6, 8]"
      ]
     },
     "execution_count": 20,
     "metadata": {},
     "output_type": "execute_result"
    }
   ],
   "source": [
    "l3 = [ x + y for x,y in zip (l1,l2)]\n",
    "l3"
   ]
  },
  {
   "cell_type": "code",
   "execution_count": 21,
   "id": "983620bc",
   "metadata": {},
   "outputs": [
    {
     "data": {
      "text/plain": [
       "(array([0, 1, 2, 3, 4]), array([0, 1, 2, 3, 4]))"
      ]
     },
     "execution_count": 21,
     "metadata": {},
     "output_type": "execute_result"
    }
   ],
   "source": [
    "n1 = np.arange(5)\n",
    "n2 = np.arange(5)\n",
    "n1, n2"
   ]
  },
  {
   "cell_type": "code",
   "execution_count": 22,
   "id": "e238ef62",
   "metadata": {},
   "outputs": [
    {
     "data": {
      "text/plain": [
       "array([0, 0, 0, 0, 0])"
      ]
     },
     "execution_count": 22,
     "metadata": {},
     "output_type": "execute_result"
    }
   ],
   "source": [
    "n1 -n2"
   ]
  },
  {
   "cell_type": "code",
   "execution_count": 23,
   "id": "eac7f843",
   "metadata": {},
   "outputs": [
    {
     "data": {
      "text/plain": [
       "array([ 0,  1,  4,  9, 16])"
      ]
     },
     "execution_count": 23,
     "metadata": {},
     "output_type": "execute_result"
    }
   ],
   "source": [
    "n1 * n2"
   ]
  },
  {
   "cell_type": "markdown",
   "id": "5492e340",
   "metadata": {},
   "source": []
  }
 ],
 "metadata": {
  "kernelspec": {
   "display_name": "Python 3",
   "language": "python",
   "name": "python3"
  },
  "language_info": {
   "codemirror_mode": {
    "name": "ipython",
    "version": 3
   },
   "file_extension": ".py",
   "mimetype": "text/x-python",
   "name": "python",
   "nbconvert_exporter": "python",
   "pygments_lexer": "ipython3",
   "version": "3.12.1"
  }
 },
 "nbformat": 4,
 "nbformat_minor": 5
}
