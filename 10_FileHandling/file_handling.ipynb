{
 "cells": [
  {
   "cell_type": "code",
   "execution_count": 1,
   "id": "543a27db",
   "metadata": {},
   "outputs": [
    {
     "name": "stdout",
     "output_type": "stream",
     "text": [
      "Teacher: why are you late raghu?\n",
      "\n",
      "Raghu : because of the sign\n",
      "\n",
      "Teacher: Whar sign?\n",
      "\n",
      "Raghu : The one that says \"School Ahead, Go slow\"\n"
     ]
    }
   ],
   "source": [
    "f=open(\"funny.txt\",\"r\")\n",
    "\n",
    "for line in f:\n",
    "    print(line)\n",
    "\n",
    "f.close()"
   ]
  },
  {
   "cell_type": "code",
   "execution_count": 2,
   "id": "4ade6d31",
   "metadata": {},
   "outputs": [
    {
     "name": "stdout",
     "output_type": "stream",
     "text": [
      "Teacher: why are you late raghu?\n",
      "\n",
      "Raghu : because of the sign\n",
      "\n",
      "Teacher: Whar sign?\n",
      "\n",
      "Raghu : The one that says \"School Ahead, Go slow\"\n"
     ]
    }
   ],
   "source": [
    "with open(\"funny.txt\", \"r\")  as f:\n",
    "    for line in f:\n",
    "        print (line)"
   ]
  },
  {
   "cell_type": "code",
   "execution_count": null,
   "id": "019db55b",
   "metadata": {},
   "outputs": [],
   "source": [
    "# w  over writes the current file\n",
    "with open(\"love.txt\", \"w\") as f:\n",
    "    f.write(\"I love Python\\n\")\n",
    "    f.write(\"I love meditation\\n\")\n",
    "    f.write(\"and I love to dance and sing\")"
   ]
  },
  {
   "cell_type": "code",
   "execution_count": 7,
   "id": "38bd05bc",
   "metadata": {},
   "outputs": [],
   "source": [
    "# to append more data use 'a'\n",
    "with open (\"love.txt\", \"a\") as f:\n",
    "    f.write(\"\\n ye line maine append karke likhi hai naki over write karke\")"
   ]
  },
  {
   "cell_type": "code",
   "execution_count": 8,
   "id": "9b8d6ede",
   "metadata": {},
   "outputs": [],
   "source": [
    "with open(\"love.txt\", \"w\") as f:\n",
    "    f.writelines([\n",
    "        \"I love c++\\n,\"\n",
    "        \"I love scala\"\n",
    "    ])"
   ]
  },
  {
   "cell_type": "code",
   "execution_count": 11,
   "id": "dc411f89",
   "metadata": {},
   "outputs": [
    {
     "ename": "UnicodeDecodeError",
     "evalue": "'utf-8' codec can't decode byte 0xa7 in position 14: invalid start byte",
     "output_type": "error",
     "traceback": [
      "\u001b[31m---------------------------------------------------------------------------\u001b[39m",
      "\u001b[31mUnicodeDecodeError\u001b[39m                        Traceback (most recent call last)",
      "\u001b[36mCell\u001b[39m\u001b[36m \u001b[39m\u001b[32mIn[11]\u001b[39m\u001b[32m, line 2\u001b[39m\n\u001b[32m      1\u001b[39m \u001b[38;5;28;01mwith\u001b[39;00m \u001b[38;5;28mopen\u001b[39m(\u001b[33m\"\u001b[39m\u001b[33mcricket.csv\u001b[39m\u001b[33m\"\u001b[39m, \u001b[33m\"\u001b[39m\u001b[33mr\u001b[39m\u001b[33m\"\u001b[39m) \u001b[38;5;28;01mas\u001b[39;00m f:\n\u001b[32m----> \u001b[39m\u001b[32m2\u001b[39m \u001b[43m    \u001b[49m\u001b[38;5;28;43;01mfor\u001b[39;49;00m\u001b[43m \u001b[49m\u001b[43mline\u001b[49m\u001b[43m \u001b[49m\u001b[38;5;129;43;01min\u001b[39;49;00m\u001b[43m \u001b[49m\u001b[43mf\u001b[49m\u001b[43m:\u001b[49m\n\u001b[32m      3\u001b[39m \u001b[43m        \u001b[49m\u001b[38;5;28;43mprint\u001b[39;49m\u001b[43m(\u001b[49m\u001b[43mline\u001b[49m\u001b[43m)\u001b[49m\n",
      "\u001b[36mFile \u001b[39m\u001b[32m<frozen codecs>:322\u001b[39m, in \u001b[36mdecode\u001b[39m\u001b[34m(self, input, final)\u001b[39m\n",
      "\u001b[31mUnicodeDecodeError\u001b[39m: 'utf-8' codec can't decode byte 0xa7 in position 14: invalid start byte"
     ]
    }
   ],
   "source": [
    "with open(\"cricket.csv\", \"r\") as f:\n",
    "    for line in f:\n",
    "        print(line)"
   ]
  },
  {
   "cell_type": "code",
   "execution_count": 13,
   "id": "5860dc7c",
   "metadata": {},
   "outputs": [],
   "source": [
    "with open(\"dummy.txt\", \"w\") as f:\n",
    "    f.write(\"whatever\")"
   ]
  },
  {
   "cell_type": "code",
   "execution_count": 14,
   "id": "dd774291",
   "metadata": {},
   "outputs": [],
   "source": [
    "import os\n",
    "if os.path.exists(\"dummy.txt\"):\n",
    "    os.remove(\"dummy.txt\")\n",
    "else:\n",
    "    print(\"file does not exist\")\n"
   ]
  },
  {
   "cell_type": "code",
   "execution_count": null,
   "id": "3320bc7d",
   "metadata": {},
   "outputs": [],
   "source": []
  }
 ],
 "metadata": {
  "kernelspec": {
   "display_name": "Python 3",
   "language": "python",
   "name": "python3"
  },
  "language_info": {
   "codemirror_mode": {
    "name": "ipython",
    "version": 3
   },
   "file_extension": ".py",
   "mimetype": "text/x-python",
   "name": "python",
   "nbconvert_exporter": "python",
   "pygments_lexer": "ipython3",
   "version": "3.12.1"
  }
 },
 "nbformat": 4,
 "nbformat_minor": 5
}
